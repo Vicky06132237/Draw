{
 "cells": [
  {
   "cell_type": "code",
   "execution_count": 1,
   "id": "a7f4e183",
   "metadata": {},
   "outputs": [],
   "source": [
    "from PIL import Image, ImageFilter, ImageDraw, ImageFont\n",
    "\n",
    "pic = Image.open(r'C:\\Users\\user\\Desktop\\1.jpg')"
   ]
  },
  {
   "cell_type": "code",
   "execution_count": 2,
   "id": "ab680186",
   "metadata": {},
   "outputs": [
    {
     "name": "stdout",
     "output_type": "stream",
     "text": [
      "圖像寬度: 1000\n",
      "圖像高度: 665\n"
     ]
    }
   ],
   "source": [
    "print('圖像寬度:', pic.width)\n",
    "print('圖像高度:', pic.height)"
   ]
  },
  {
   "cell_type": "code",
   "execution_count": 3,
   "id": "add0ca6f",
   "metadata": {},
   "outputs": [
    {
     "name": "stdout",
     "output_type": "stream",
     "text": [
      "圖像檔案格式: JPEG\n",
      "圖像色彩模式: RGB\n",
      "圖像大小: (1000, 665)\n"
     ]
    }
   ],
   "source": [
    "print('圖像檔案格式:', pic.format)\n",
    "print('圖像色彩模式:', pic.mode)\n",
    "print('圖像大小:', pic.size)"
   ]
  },
  {
   "cell_type": "code",
   "execution_count": 4,
   "id": "5cee9084",
   "metadata": {},
   "outputs": [],
   "source": [
    "pic.show()"
   ]
  },
  {
   "cell_type": "code",
   "execution_count": 39,
   "id": "20d08a71",
   "metadata": {},
   "outputs": [
    {
     "name": "stdout",
     "output_type": "stream",
     "text": [
      "原本的圖像色彩模式: RGB\n",
      "轉換後的圖像色彩模式: RGB\n"
     ]
    }
   ],
   "source": [
    "print('原本的圖像色彩模式:', pic.mode)\n",
    "new_pic = pic.convert('L')\n",
    "new_pic.show()\n",
    "print('轉換後的圖像色彩模式:', pic.mode)"
   ]
  },
  {
   "cell_type": "code",
   "execution_count": 37,
   "id": "4320cf22",
   "metadata": {},
   "outputs": [],
   "source": [
    "new_pic = pic.rotate(30)\n",
    "new_pic.show()"
   ]
  },
  {
   "cell_type": "code",
   "execution_count": 38,
   "id": "2d6d0bfc",
   "metadata": {},
   "outputs": [],
   "source": [
    "new_pic2 = pic.rotate(-30)\n",
    "new_pic2.show()"
   ]
  },
  {
   "cell_type": "code",
   "execution_count": 22,
   "id": "93715a90",
   "metadata": {},
   "outputs": [],
   "source": [
    "image_path = r'C:\\Users\\user\\Desktop\\1.jpg'\n",
    "pic = Image.open(image_path)\n",
    "new_pic = pic.filter(ImageFilter.CONTOUR)\n",
    "new_pic.save(r'C:\\Users\\user\\Desktop\\1.jpg')\n",
    "new_pic.show()"
   ]
  },
  {
   "cell_type": "code",
   "execution_count": 24,
   "id": "a5cad98e",
   "metadata": {},
   "outputs": [
    {
     "name": "stdout",
     "output_type": "stream",
     "text": [
      "原本大小: (400, 400)\n",
      "變更後的大小: (400, 400)\n"
     ]
    }
   ],
   "source": [
    "print('原本大小:',pic.size)\n",
    "new_pic = pic.resize((400, 400))\n",
    "print('變更後的大小:', new_pic.size)\n",
    "new_pic.save(r'C:\\Users\\user\\Desktop\\1.jpg')\n",
    "new_pic.show()"
   ]
  },
  {
   "cell_type": "code",
   "execution_count": 25,
   "id": "0103bd94",
   "metadata": {},
   "outputs": [],
   "source": [
    "pic = Image.open(image_path)\n",
    "t_font = ImageFont.truetype(r'C:\\Windows\\Fonts\\Arial\\arial.ttf', 30)\n",
    "draw = ImageDraw.Draw(pic)"
   ]
  },
  {
   "cell_type": "code",
   "execution_count": 35,
   "id": "28db364a",
   "metadata": {},
   "outputs": [],
   "source": [
    "draw.text((20, 30), 'Nordic', font=t_font, fill=(178,143, 206, 0))\n",
    "draw.text((20, 100), 'aurora', font=t_font, fill=(125, 185, 222, 0))\n",
    "pic.show()"
   ]
  },
  {
   "cell_type": "code",
   "execution_count": null,
   "id": "28f59cfc",
   "metadata": {},
   "outputs": [],
   "source": []
  }
 ],
 "metadata": {
  "kernelspec": {
   "display_name": "Python 3 (ipykernel)",
   "language": "python",
   "name": "python3"
  },
  "language_info": {
   "codemirror_mode": {
    "name": "ipython",
    "version": 3
   },
   "file_extension": ".py",
   "mimetype": "text/x-python",
   "name": "python",
   "nbconvert_exporter": "python",
   "pygments_lexer": "ipython3",
   "version": "3.11.7"
  }
 },
 "nbformat": 4,
 "nbformat_minor": 5
}
